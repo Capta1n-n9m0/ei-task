{
 "cells": [
  {
   "cell_type": "code",
   "id": "initial_id",
   "metadata": {
    "collapsed": true,
    "ExecuteTime": {
     "end_time": "2025-01-23T10:03:47.959921Z",
     "start_time": "2025-01-23T10:03:47.956501Z"
    }
   },
   "source": [
    "import numpy as np\n",
    "import matplotlib.pyplot as plt\n",
    "import pandas as pd\n",
    "import seaborn as sns\n",
    "from pathlib import Path"
   ],
   "outputs": [],
   "execution_count": 1
  },
  {
   "metadata": {},
   "cell_type": "markdown",
   "source": "Let's initialize the data",
   "id": "842eccbfce69ecf4"
  },
  {
   "metadata": {
    "ExecuteTime": {
     "end_time": "2025-01-23T10:03:47.974563Z",
     "start_time": "2025-01-23T10:03:47.971465Z"
    }
   },
   "cell_type": "code",
   "source": [
    "DATA = Path('data')\n",
    "section1 = DATA / 'Section 1 data.csv'\n",
    "section3 = DATA / 'Section 3 data.csv'"
   ],
   "id": "f70763df443850e8",
   "outputs": [],
   "execution_count": 2
  },
  {
   "metadata": {},
   "cell_type": "markdown",
   "source": [
    "# Section 1\n",
    "The Yelp reviews dataset."
   ],
   "id": "e20425e445aed249"
  },
  {
   "metadata": {
    "ExecuteTime": {
     "end_time": "2025-01-23T10:03:49.834129Z",
     "start_time": "2025-01-23T10:03:47.984606Z"
    }
   },
   "cell_type": "code",
   "source": [
    "df1 = pd.read_csv(section1)\n",
    "\n",
    "df1.head()"
   ],
   "id": "16b0f31a836d2523",
   "outputs": [
    {
     "data": {
      "text/plain": [
       "  Review_Date                                        Review_Text  \\\n",
       "0  2014-07-16                                       okay...so so   \n",
       "1  2014-07-16  Some people complain about the prices but Subw...   \n",
       "2  2014-07-16  Had red curry chicken, the chicken itself was ...   \n",
       "3  2014-07-16  Alright, I gave the restaurant manager ample t...   \n",
       "4  2014-07-16  Blehhhh :/ this place shouldn't even be in bus...   \n",
       "\n",
       "                  User_ID             Business_ID           Business_Name  \\\n",
       "0  6VxJJX7h36bMCCFt7URg6w  9QqLqYIwV-n1BJPjnaYv8A        Beef 'O' Brady's   \n",
       "1  viGPiPuMZnV4PR_aiA3-qw  pNQwnY_q4okdlnPiR-3RBA           Empire Bagels   \n",
       "2  rwehMCinfBjhZ0IbR1zFBw  shCdCHRbnY5FTMJbWl-myQ             Thai Spices   \n",
       "3  VWqt5IH8fm-k9M0CKFkJzg  HpaYCM_NCauI72LLXxC6SA  Yonaka Modern Japanese   \n",
       "4  Y6-0ToMhjBsm8iYEaT2meg  FC4q3hJyF8oo984xoo3RMg               808 Sushi   \n",
       "\n",
       "    Business_Category       City State   Latitude   Longitude  \\\n",
       "0                Bars   Chandler    AZ  33.303847 -111.946838   \n",
       "1                Food  Las Vegas    NV  36.077299 -115.297979   \n",
       "2                Thai       Mesa    AZ  33.412708 -111.875803   \n",
       "3  Tapas/Small Plates  Las Vegas    NV  36.114935 -115.209737   \n",
       "4          Sushi Bars  Las Vegas    NV  36.052181 -115.279227   \n",
       "\n",
       "   Avg_Business_Star_Rating  \n",
       "0                       3.5  \n",
       "1                       3.5  \n",
       "2                       4.0  \n",
       "3                       4.5  \n",
       "4                       3.5  "
      ],
      "text/html": [
       "<div>\n",
       "<style scoped>\n",
       "    .dataframe tbody tr th:only-of-type {\n",
       "        vertical-align: middle;\n",
       "    }\n",
       "\n",
       "    .dataframe tbody tr th {\n",
       "        vertical-align: top;\n",
       "    }\n",
       "\n",
       "    .dataframe thead th {\n",
       "        text-align: right;\n",
       "    }\n",
       "</style>\n",
       "<table border=\"1\" class=\"dataframe\">\n",
       "  <thead>\n",
       "    <tr style=\"text-align: right;\">\n",
       "      <th></th>\n",
       "      <th>Review_Date</th>\n",
       "      <th>Review_Text</th>\n",
       "      <th>User_ID</th>\n",
       "      <th>Business_ID</th>\n",
       "      <th>Business_Name</th>\n",
       "      <th>Business_Category</th>\n",
       "      <th>City</th>\n",
       "      <th>State</th>\n",
       "      <th>Latitude</th>\n",
       "      <th>Longitude</th>\n",
       "      <th>Avg_Business_Star_Rating</th>\n",
       "    </tr>\n",
       "  </thead>\n",
       "  <tbody>\n",
       "    <tr>\n",
       "      <th>0</th>\n",
       "      <td>2014-07-16</td>\n",
       "      <td>okay...so so</td>\n",
       "      <td>6VxJJX7h36bMCCFt7URg6w</td>\n",
       "      <td>9QqLqYIwV-n1BJPjnaYv8A</td>\n",
       "      <td>Beef 'O' Brady's</td>\n",
       "      <td>Bars</td>\n",
       "      <td>Chandler</td>\n",
       "      <td>AZ</td>\n",
       "      <td>33.303847</td>\n",
       "      <td>-111.946838</td>\n",
       "      <td>3.5</td>\n",
       "    </tr>\n",
       "    <tr>\n",
       "      <th>1</th>\n",
       "      <td>2014-07-16</td>\n",
       "      <td>Some people complain about the prices but Subw...</td>\n",
       "      <td>viGPiPuMZnV4PR_aiA3-qw</td>\n",
       "      <td>pNQwnY_q4okdlnPiR-3RBA</td>\n",
       "      <td>Empire Bagels</td>\n",
       "      <td>Food</td>\n",
       "      <td>Las Vegas</td>\n",
       "      <td>NV</td>\n",
       "      <td>36.077299</td>\n",
       "      <td>-115.297979</td>\n",
       "      <td>3.5</td>\n",
       "    </tr>\n",
       "    <tr>\n",
       "      <th>2</th>\n",
       "      <td>2014-07-16</td>\n",
       "      <td>Had red curry chicken, the chicken itself was ...</td>\n",
       "      <td>rwehMCinfBjhZ0IbR1zFBw</td>\n",
       "      <td>shCdCHRbnY5FTMJbWl-myQ</td>\n",
       "      <td>Thai Spices</td>\n",
       "      <td>Thai</td>\n",
       "      <td>Mesa</td>\n",
       "      <td>AZ</td>\n",
       "      <td>33.412708</td>\n",
       "      <td>-111.875803</td>\n",
       "      <td>4.0</td>\n",
       "    </tr>\n",
       "    <tr>\n",
       "      <th>3</th>\n",
       "      <td>2014-07-16</td>\n",
       "      <td>Alright, I gave the restaurant manager ample t...</td>\n",
       "      <td>VWqt5IH8fm-k9M0CKFkJzg</td>\n",
       "      <td>HpaYCM_NCauI72LLXxC6SA</td>\n",
       "      <td>Yonaka Modern Japanese</td>\n",
       "      <td>Tapas/Small Plates</td>\n",
       "      <td>Las Vegas</td>\n",
       "      <td>NV</td>\n",
       "      <td>36.114935</td>\n",
       "      <td>-115.209737</td>\n",
       "      <td>4.5</td>\n",
       "    </tr>\n",
       "    <tr>\n",
       "      <th>4</th>\n",
       "      <td>2014-07-16</td>\n",
       "      <td>Blehhhh :/ this place shouldn't even be in bus...</td>\n",
       "      <td>Y6-0ToMhjBsm8iYEaT2meg</td>\n",
       "      <td>FC4q3hJyF8oo984xoo3RMg</td>\n",
       "      <td>808 Sushi</td>\n",
       "      <td>Sushi Bars</td>\n",
       "      <td>Las Vegas</td>\n",
       "      <td>NV</td>\n",
       "      <td>36.052181</td>\n",
       "      <td>-115.279227</td>\n",
       "      <td>3.5</td>\n",
       "    </tr>\n",
       "  </tbody>\n",
       "</table>\n",
       "</div>"
      ]
     },
     "execution_count": 3,
     "metadata": {},
     "output_type": "execute_result"
    }
   ],
   "execution_count": 3
  },
  {
   "metadata": {
    "ExecuteTime": {
     "end_time": "2025-01-23T10:03:50.443701Z",
     "start_time": "2025-01-23T10:03:50.358332Z"
    }
   },
   "cell_type": "code",
   "source": "df1.info()",
   "id": "3f423c497247ec48",
   "outputs": [
    {
     "name": "stdout",
     "output_type": "stream",
     "text": [
      "<class 'pandas.core.frame.DataFrame'>\n",
      "RangeIndex: 227581 entries, 0 to 227580\n",
      "Data columns (total 11 columns):\n",
      " #   Column                    Non-Null Count   Dtype  \n",
      "---  ------                    --------------   -----  \n",
      " 0   Review_Date               227581 non-null  object \n",
      " 1   Review_Text               227580 non-null  object \n",
      " 2   User_ID                   227581 non-null  object \n",
      " 3   Business_ID               227581 non-null  object \n",
      " 4   Business_Name             227581 non-null  object \n",
      " 5   Business_Category         227297 non-null  object \n",
      " 6   City                      227581 non-null  object \n",
      " 7   State                     227581 non-null  object \n",
      " 8   Latitude                  227581 non-null  float64\n",
      " 9   Longitude                 227581 non-null  float64\n",
      " 10  Avg_Business_Star_Rating  227581 non-null  float64\n",
      "dtypes: float64(3), object(8)\n",
      "memory usage: 19.1+ MB\n"
     ]
    }
   ],
   "execution_count": 4
  },
  {
   "metadata": {},
   "cell_type": "markdown",
   "source": "## How many unique restaurants could be found in this data set? (Hint: Use the [Business_ID] column for this evaluation.)",
   "id": "49745d29d40981de"
  },
  {
   "metadata": {
    "ExecuteTime": {
     "end_time": "2025-01-23T10:03:50.485132Z",
     "start_time": "2025-01-23T10:03:50.471783Z"
    }
   },
   "cell_type": "code",
   "source": [
    "# first look at unique business categories\n",
    "df1['Business_Category'].unique()"
   ],
   "id": "1ce7275c4ea095cb",
   "outputs": [
    {
     "data": {
      "text/plain": [
       "array(['Bars', 'Food', 'Thai', 'Tapas/Small Plates', 'Sushi Bars',\n",
       "       'Mortgage Brokers', 'Korean', 'Breakfast & Brunch', 'Peruvian',\n",
       "       'Burgers', 'Japanese', 'Seafood', 'Nightlife', 'Mexican',\n",
       "       'Bakeries', 'Tires', 'Restaurants', 'Active Life', 'DJs',\n",
       "       'Local Services', 'Health & Medical', 'Pubs',\n",
       "       'Arts & Entertainment', 'Shopping', 'Soul Food', 'Resorts',\n",
       "       'Comic Books', 'American (New)', 'Arts & Crafts', 'Skin Care',\n",
       "       'Doctors', 'Plumbing', 'Day Spas', 'Latin American',\n",
       "       'Hotels & Travel', 'Chinese', 'Asian Fusion', 'Steakhouses',\n",
       "       'Hair Removal', 'Italian', 'Beauty & Spas', 'Irish', 'Greek',\n",
       "       'Sandwiches', 'Buffets', 'Car Wash', 'Delis',\n",
       "       'American (Traditional)', 'Barbeque', 'Department Stores',\n",
       "       'Mediterranean', 'Vegetarian', 'Health Markets',\n",
       "       'Event Planning & Services', 'Indian', 'Sporting Goods',\n",
       "       'Hawaiian', 'Gluten-Free', 'Auto Repair', 'Hair Salons',\n",
       "       'Hot Dogs', 'Gastropubs', 'Local Flavor', 'Pizza', 'Reflexology',\n",
       "       'Kosher', 'Yelp Events', 'Fast Food', 'Solar Installation',\n",
       "       'Pediatric Dentists', 'Home Services', 'Education',\n",
       "       'Window Washing', 'Magicians', 'Roofing', 'Acupuncture', nan,\n",
       "       \"Women's Clothing\", 'Diners', 'Employment Law', 'Vietnamese',\n",
       "       'Car Stereo Installation', 'Home Cleaning', 'Tex-Mex', 'Movers',\n",
       "       'Hobby Shops', 'Books, Mags, Music & Video', 'Wine Bars',\n",
       "       'Print Media', 'Computers', 'Real Estate Services', 'Cajun/Creole',\n",
       "       'Oil Change Stations', 'Do-It-Yourself Food', 'Soup', 'Venezuelan',\n",
       "       'Ramen', 'Museums', 'Bridal', 'Personal Chefs', 'Automotive',\n",
       "       'Filipino', 'Wedding Planning', 'Pet Groomers',\n",
       "       'Colleges & Universities', 'Banks & Credit Unions', 'Tours',\n",
       "       'Medical Centers', 'Door Sales/Installation', 'Barbers',\n",
       "       'Pakistani', \"Men's Clothing\", 'Professional Services',\n",
       "       'Dive Bars', 'Lounges', 'Television Service Providers',\n",
       "       'Shades & Blinds', 'British', 'Used, Vintage & Consignment',\n",
       "       'Cafes', 'Departments of Motor Vehicles', 'Dermatologists',\n",
       "       'Marketing', 'Dim Sum', 'Massage', 'Optometrists',\n",
       "       'Shopping Centers', 'Fondue', 'Chicken Wings', 'Tanning Beds',\n",
       "       'Hardware Stores', 'Security Systems', 'Gyms', 'Eyelash Service',\n",
       "       'Waxing', 'Post Offices', 'Animal Shelters', 'Tanning', 'Churches',\n",
       "       'Real Estate', 'Landscaping', 'Russian', 'Pet Services',\n",
       "       'Veterinarians', \"Children's Clothing\", 'German', 'Szechuan',\n",
       "       'Fashion', 'Tobacco Shops', 'Mongolian', 'Southern', 'Mattresses',\n",
       "       'Afghan', 'Specialty Schools', 'Makeup Artists', 'Dance Clubs',\n",
       "       'Coffee & Tea', 'Tapas Bars', 'Web Design', 'Discount Store',\n",
       "       'Grocery', 'Photographers', 'Cheesesteaks', 'French', 'Tattoo',\n",
       "       'Property Management', 'Keys & Locksmiths', 'Portuguese',\n",
       "       'Casinos', 'Electricians', 'Videos & Video Game Rental',\n",
       "       'Taiwanese', 'Music Venues', 'Ethiopian', 'Malaysian', 'Libraries',\n",
       "       'Scottish', 'Public Services & Government', 'Caterers',\n",
       "       'Building Supplies', 'Flowers & Gifts', 'Cambodian',\n",
       "       'Hot Tub & Pool', 'Comfort Food', 'Antiques',\n",
       "       'Nurseries & Gardening', 'Allergists', 'Karaoke',\n",
       "       'Baby Gear & Furniture', 'Cannabis Clinics', 'Adult Entertainment',\n",
       "       'Falafel', 'Financial Services', 'Gardeners', 'Toy Stores',\n",
       "       'Music & DVDs', 'Shanghainese', 'Brasseries',\n",
       "       'Musical Instruments & Teachers', 'Massage Therapy', 'Cuban',\n",
       "       'Tree Services', 'Public Relations', 'Creperies', 'Middle Eastern',\n",
       "       'Kitchen & Bath', 'Live/Raw Food', 'Religious Organizations',\n",
       "       'Dentists', 'Venues & Event Spaces', 'Handyman', 'Lingerie',\n",
       "       'Party & Event Planning', 'Weight Loss Centers', 'Oral Surgeons',\n",
       "       'Food Court', 'Fences & Gates', 'Spanish', 'Nutritionists',\n",
       "       'Cards & Stationery', 'Piano Bars', 'Pets', 'Electronics',\n",
       "       'Damage Restoration', 'Laboratory Testing',\n",
       "       'Party Equipment Rentals', 'Retirement Homes', 'Jazz & Blues',\n",
       "       'Party Supplies', 'Hospitals', 'Pilates', 'Windows Installation',\n",
       "       'Hot Pot', 'Leather Goods', 'Party Bus Rentals', 'Endodontists',\n",
       "       'Modern European', 'Gift Shops', 'Thrift Stores',\n",
       "       'Persian/Iranian', 'Caribbean', 'Tattoo Removal', 'Moroccan',\n",
       "       'Interior Design', 'Food Stands', 'Hypnosis/Hypnotherapy',\n",
       "       'Indonesian', 'Nail Salons', 'Playgrounds', 'Lebanese', 'Painters',\n",
       "       'Art Supplies', 'Recreation Centers', 'Newspapers & Magazines',\n",
       "       'Medical Spas', 'Dance Schools', 'Television Stations', 'Midwives',\n",
       "       'Hats', 'Furniture Stores', 'Real Estate Agents', 'Accountants',\n",
       "       'Salad', 'Elementary Schools', 'Sports Medicine', 'Yoga',\n",
       "       'Food Delivery Services', 'Himalayan/Nepalese', 'Irrigation',\n",
       "       'Bagels', 'Brazilian', 'Jewelry', 'Photo Booth Rentals', 'Golf',\n",
       "       'Canadian (New)', 'Mass Media', 'Divorce & Family Law',\n",
       "       'Neurologist', 'Fish & Chips', 'Flowers',\n",
       "       'Landmarks & Historical Buildings', 'Art Schools',\n",
       "       'Employment Agencies', 'Pool Halls', 'Bistros', 'Poutineries',\n",
       "       'Piercing', 'Permanent Makeup', 'African', 'Airports',\n",
       "       'Hookah Bars', 'Limos', 'Middle Schools & High Schools',\n",
       "       'Auction Houses', 'Go Karts', 'Carpet Installation',\n",
       "       'Champagne Bars', 'Flooring', 'Counseling & Mental Health',\n",
       "       'Polish', 'Videographers', 'Auto Detailing', 'Turkish',\n",
       "       'Language Schools', 'Uniforms', 'Home Organization',\n",
       "       'Motorcycle Repair', 'Gas & Service Stations', 'Boat Charters',\n",
       "       'Cheese Shops', 'Art Galleries', 'Recording & Rehearsal Studios',\n",
       "       'Rehabilitation Center', 'Embroidery & Crochet', 'Body Shops',\n",
       "       'Professional Sports Teams', 'Pool Cleaners', 'Basque',\n",
       "       'Garage Door Services', 'Opera & Ballet', 'Physical Therapy',\n",
       "       'Drywall Installation & Repair', 'Lighting Fixtures & Equipment',\n",
       "       'Home Decor', 'Endocrinologists', 'Surf Shop',\n",
       "       'Cosmetology Schools', 'Outlet Stores', 'Masonry/Concrete',\n",
       "       'Graphic Design', 'Talent Agencies', 'Career Counseling',\n",
       "       'Diagnostic Imaging', 'Horse Boarding', 'Home & Garden',\n",
       "       'Gay Bars', 'Plus Size Fashion', 'Personal Assistants',\n",
       "       'Country Dance Halls', 'Train Stations', 'Speech Therapists',\n",
       "       'Commercial Real Estate', 'Florists', 'Hospice', 'Bartenders',\n",
       "       'Shared Office Spaces', 'Courthouses', 'Propane',\n",
       "       'Buddhist Temples', 'Contractors', 'Swimming Pools',\n",
       "       'Landscape Architects', 'Cantonese', 'Appliances', 'Officiants',\n",
       "       'Printing Services', 'Argentine', 'Cafeteria', 'Cocktail Bars',\n",
       "       'Hotels', 'Gold Buyers', 'Adult Education', 'Chimney Sweeps',\n",
       "       'Festivals', 'Dry Cleaning & Laundry', 'Comedy Clubs',\n",
       "       'Bangladeshi', 'Burmese', 'Mosques', 'Belgian', 'Accessories',\n",
       "       'Office Equipment', 'Religious Schools'], dtype=object)"
      ]
     },
     "execution_count": 5,
     "metadata": {},
     "output_type": "execute_result"
    }
   ],
   "execution_count": 5
  },
  {
   "metadata": {
    "ExecuteTime": {
     "end_time": "2025-01-23T10:03:50.545397Z",
     "start_time": "2025-01-23T10:03:50.525332Z"
    }
   },
   "cell_type": "code",
   "source": [
    "# first get number of restaurant reviews, using Business_Category\n",
    "restaurants = df1[df1['Business_Category'] == 'Restaurants']\n",
    "\n",
    "print(f\"Number of restaurant reviews: {len(restaurants)}\")\n",
    "print(f\"Number of unique restaurants: {restaurants['Business_ID'].nunique()}\")"
   ],
   "id": "f186443a83d21618",
   "outputs": [
    {
     "name": "stdout",
     "output_type": "stream",
     "text": [
      "Number of restaurant reviews: 6513\n",
      "Number of unique restaurants: 594\n"
     ]
    }
   ],
   "execution_count": 6
  },
  {
   "metadata": {},
   "cell_type": "markdown",
   "source": "# Which restaurant received the highest number of reviews? What about percentage-wise?",
   "id": "c5b02adbf2a4dcbd"
  },
  {
   "metadata": {
    "ExecuteTime": {
     "end_time": "2025-01-23T10:04:20.410693Z",
     "start_time": "2025-01-23T10:04:20.392618Z"
    }
   },
   "cell_type": "code",
   "source": [
    "# Get review count per restaurant\n",
    "restaurant_review_counts = restaurants.groupby(['Business_ID', 'Business_Name'])['Review_Text'].count().reset_index()\n",
    "restaurant_review_counts = restaurant_review_counts.rename(columns={'Review_Text': 'Review_Count'})\n",
    "restaurant_review_counts"
   ],
   "id": "9e67950f97e8bbf",
   "outputs": [
    {
     "data": {
      "text/plain": [
       "                Business_ID                    Business_Name  Review_Count\n",
       "0    -2n-OHbbwIv3SY8RP9bgTQ          Maggiano's Little Italy           126\n",
       "1    -5xC7s9Ujg5F-3xFXtM_kg        Benvenuto's Italian Grill             2\n",
       "2    -6n29ZcBHteJ9eEexoRQ7g                            Sassi            22\n",
       "3    -DRpMxRhHEKf5awoVpROkQ                     Toby Carvery             1\n",
       "4    -PcyNcCHU8ZWwf6_PwDbUQ                Enoteca San Marco            50\n",
       "..                      ...                              ...           ...\n",
       "589  zD_0Ubr8kY7vGIwxKZCZZw                East Side Mario's             2\n",
       "590  zNa_IxR49eFTs_EYLE2ZQw  Bertolini's Authentic Trattoria             1\n",
       "591  zXR9WUVpo-PF8xH5SmQ_xA                    Yeni Meze Bar             1\n",
       "592  z_IfC-aIkKpuhGfX1yzdfg                    Alexi's Grill             8\n",
       "593  zpDJ3kZohKJWKsT3O8yi0A  Olive Garden Italian Restaurant             7\n",
       "\n",
       "[594 rows x 3 columns]"
      ],
      "text/html": [
       "<div>\n",
       "<style scoped>\n",
       "    .dataframe tbody tr th:only-of-type {\n",
       "        vertical-align: middle;\n",
       "    }\n",
       "\n",
       "    .dataframe tbody tr th {\n",
       "        vertical-align: top;\n",
       "    }\n",
       "\n",
       "    .dataframe thead th {\n",
       "        text-align: right;\n",
       "    }\n",
       "</style>\n",
       "<table border=\"1\" class=\"dataframe\">\n",
       "  <thead>\n",
       "    <tr style=\"text-align: right;\">\n",
       "      <th></th>\n",
       "      <th>Business_ID</th>\n",
       "      <th>Business_Name</th>\n",
       "      <th>Review_Count</th>\n",
       "    </tr>\n",
       "  </thead>\n",
       "  <tbody>\n",
       "    <tr>\n",
       "      <th>0</th>\n",
       "      <td>-2n-OHbbwIv3SY8RP9bgTQ</td>\n",
       "      <td>Maggiano's Little Italy</td>\n",
       "      <td>126</td>\n",
       "    </tr>\n",
       "    <tr>\n",
       "      <th>1</th>\n",
       "      <td>-5xC7s9Ujg5F-3xFXtM_kg</td>\n",
       "      <td>Benvenuto's Italian Grill</td>\n",
       "      <td>2</td>\n",
       "    </tr>\n",
       "    <tr>\n",
       "      <th>2</th>\n",
       "      <td>-6n29ZcBHteJ9eEexoRQ7g</td>\n",
       "      <td>Sassi</td>\n",
       "      <td>22</td>\n",
       "    </tr>\n",
       "    <tr>\n",
       "      <th>3</th>\n",
       "      <td>-DRpMxRhHEKf5awoVpROkQ</td>\n",
       "      <td>Toby Carvery</td>\n",
       "      <td>1</td>\n",
       "    </tr>\n",
       "    <tr>\n",
       "      <th>4</th>\n",
       "      <td>-PcyNcCHU8ZWwf6_PwDbUQ</td>\n",
       "      <td>Enoteca San Marco</td>\n",
       "      <td>50</td>\n",
       "    </tr>\n",
       "    <tr>\n",
       "      <th>...</th>\n",
       "      <td>...</td>\n",
       "      <td>...</td>\n",
       "      <td>...</td>\n",
       "    </tr>\n",
       "    <tr>\n",
       "      <th>589</th>\n",
       "      <td>zD_0Ubr8kY7vGIwxKZCZZw</td>\n",
       "      <td>East Side Mario's</td>\n",
       "      <td>2</td>\n",
       "    </tr>\n",
       "    <tr>\n",
       "      <th>590</th>\n",
       "      <td>zNa_IxR49eFTs_EYLE2ZQw</td>\n",
       "      <td>Bertolini's Authentic Trattoria</td>\n",
       "      <td>1</td>\n",
       "    </tr>\n",
       "    <tr>\n",
       "      <th>591</th>\n",
       "      <td>zXR9WUVpo-PF8xH5SmQ_xA</td>\n",
       "      <td>Yeni Meze Bar</td>\n",
       "      <td>1</td>\n",
       "    </tr>\n",
       "    <tr>\n",
       "      <th>592</th>\n",
       "      <td>z_IfC-aIkKpuhGfX1yzdfg</td>\n",
       "      <td>Alexi's Grill</td>\n",
       "      <td>8</td>\n",
       "    </tr>\n",
       "    <tr>\n",
       "      <th>593</th>\n",
       "      <td>zpDJ3kZohKJWKsT3O8yi0A</td>\n",
       "      <td>Olive Garden Italian Restaurant</td>\n",
       "      <td>7</td>\n",
       "    </tr>\n",
       "  </tbody>\n",
       "</table>\n",
       "<p>594 rows × 3 columns</p>\n",
       "</div>"
      ]
     },
     "execution_count": 8,
     "metadata": {},
     "output_type": "execute_result"
    }
   ],
   "execution_count": 8
  },
  {
   "metadata": {
    "ExecuteTime": {
     "end_time": "2025-01-23T10:05:25.118571Z",
     "start_time": "2025-01-23T10:05:25.110347Z"
    }
   },
   "cell_type": "code",
   "source": [
    "# Calculate percentage of total reviews for each restaurant\n",
    "total_reviews = len(restaurants)\n",
    "restaurant_review_counts['Review_Percentage'] = (restaurant_review_counts['Review_Count'] / total_reviews * 100).round(2)\n",
    "restaurant_review_counts"
   ],
   "id": "dfdebc20dabb55c8",
   "outputs": [
    {
     "data": {
      "text/plain": [
       "                Business_ID                    Business_Name  Review_Count  \\\n",
       "0    -2n-OHbbwIv3SY8RP9bgTQ          Maggiano's Little Italy           126   \n",
       "1    -5xC7s9Ujg5F-3xFXtM_kg        Benvenuto's Italian Grill             2   \n",
       "2    -6n29ZcBHteJ9eEexoRQ7g                            Sassi            22   \n",
       "3    -DRpMxRhHEKf5awoVpROkQ                     Toby Carvery             1   \n",
       "4    -PcyNcCHU8ZWwf6_PwDbUQ                Enoteca San Marco            50   \n",
       "..                      ...                              ...           ...   \n",
       "589  zD_0Ubr8kY7vGIwxKZCZZw                East Side Mario's             2   \n",
       "590  zNa_IxR49eFTs_EYLE2ZQw  Bertolini's Authentic Trattoria             1   \n",
       "591  zXR9WUVpo-PF8xH5SmQ_xA                    Yeni Meze Bar             1   \n",
       "592  z_IfC-aIkKpuhGfX1yzdfg                    Alexi's Grill             8   \n",
       "593  zpDJ3kZohKJWKsT3O8yi0A  Olive Garden Italian Restaurant             7   \n",
       "\n",
       "     Review_Percentage  \n",
       "0                 1.93  \n",
       "1                 0.03  \n",
       "2                 0.34  \n",
       "3                 0.02  \n",
       "4                 0.77  \n",
       "..                 ...  \n",
       "589               0.03  \n",
       "590               0.02  \n",
       "591               0.02  \n",
       "592               0.12  \n",
       "593               0.11  \n",
       "\n",
       "[594 rows x 4 columns]"
      ],
      "text/html": [
       "<div>\n",
       "<style scoped>\n",
       "    .dataframe tbody tr th:only-of-type {\n",
       "        vertical-align: middle;\n",
       "    }\n",
       "\n",
       "    .dataframe tbody tr th {\n",
       "        vertical-align: top;\n",
       "    }\n",
       "\n",
       "    .dataframe thead th {\n",
       "        text-align: right;\n",
       "    }\n",
       "</style>\n",
       "<table border=\"1\" class=\"dataframe\">\n",
       "  <thead>\n",
       "    <tr style=\"text-align: right;\">\n",
       "      <th></th>\n",
       "      <th>Business_ID</th>\n",
       "      <th>Business_Name</th>\n",
       "      <th>Review_Count</th>\n",
       "      <th>Review_Percentage</th>\n",
       "    </tr>\n",
       "  </thead>\n",
       "  <tbody>\n",
       "    <tr>\n",
       "      <th>0</th>\n",
       "      <td>-2n-OHbbwIv3SY8RP9bgTQ</td>\n",
       "      <td>Maggiano's Little Italy</td>\n",
       "      <td>126</td>\n",
       "      <td>1.93</td>\n",
       "    </tr>\n",
       "    <tr>\n",
       "      <th>1</th>\n",
       "      <td>-5xC7s9Ujg5F-3xFXtM_kg</td>\n",
       "      <td>Benvenuto's Italian Grill</td>\n",
       "      <td>2</td>\n",
       "      <td>0.03</td>\n",
       "    </tr>\n",
       "    <tr>\n",
       "      <th>2</th>\n",
       "      <td>-6n29ZcBHteJ9eEexoRQ7g</td>\n",
       "      <td>Sassi</td>\n",
       "      <td>22</td>\n",
       "      <td>0.34</td>\n",
       "    </tr>\n",
       "    <tr>\n",
       "      <th>3</th>\n",
       "      <td>-DRpMxRhHEKf5awoVpROkQ</td>\n",
       "      <td>Toby Carvery</td>\n",
       "      <td>1</td>\n",
       "      <td>0.02</td>\n",
       "    </tr>\n",
       "    <tr>\n",
       "      <th>4</th>\n",
       "      <td>-PcyNcCHU8ZWwf6_PwDbUQ</td>\n",
       "      <td>Enoteca San Marco</td>\n",
       "      <td>50</td>\n",
       "      <td>0.77</td>\n",
       "    </tr>\n",
       "    <tr>\n",
       "      <th>...</th>\n",
       "      <td>...</td>\n",
       "      <td>...</td>\n",
       "      <td>...</td>\n",
       "      <td>...</td>\n",
       "    </tr>\n",
       "    <tr>\n",
       "      <th>589</th>\n",
       "      <td>zD_0Ubr8kY7vGIwxKZCZZw</td>\n",
       "      <td>East Side Mario's</td>\n",
       "      <td>2</td>\n",
       "      <td>0.03</td>\n",
       "    </tr>\n",
       "    <tr>\n",
       "      <th>590</th>\n",
       "      <td>zNa_IxR49eFTs_EYLE2ZQw</td>\n",
       "      <td>Bertolini's Authentic Trattoria</td>\n",
       "      <td>1</td>\n",
       "      <td>0.02</td>\n",
       "    </tr>\n",
       "    <tr>\n",
       "      <th>591</th>\n",
       "      <td>zXR9WUVpo-PF8xH5SmQ_xA</td>\n",
       "      <td>Yeni Meze Bar</td>\n",
       "      <td>1</td>\n",
       "      <td>0.02</td>\n",
       "    </tr>\n",
       "    <tr>\n",
       "      <th>592</th>\n",
       "      <td>z_IfC-aIkKpuhGfX1yzdfg</td>\n",
       "      <td>Alexi's Grill</td>\n",
       "      <td>8</td>\n",
       "      <td>0.12</td>\n",
       "    </tr>\n",
       "    <tr>\n",
       "      <th>593</th>\n",
       "      <td>zpDJ3kZohKJWKsT3O8yi0A</td>\n",
       "      <td>Olive Garden Italian Restaurant</td>\n",
       "      <td>7</td>\n",
       "      <td>0.11</td>\n",
       "    </tr>\n",
       "  </tbody>\n",
       "</table>\n",
       "<p>594 rows × 4 columns</p>\n",
       "</div>"
      ]
     },
     "execution_count": 10,
     "metadata": {},
     "output_type": "execute_result"
    }
   ],
   "execution_count": 10
  },
  {
   "metadata": {
    "ExecuteTime": {
     "end_time": "2025-01-23T10:06:33.967662Z",
     "start_time": "2025-01-23T10:06:33.962671Z"
    }
   },
   "cell_type": "code",
   "source": [
    "# Sort by review count in descending order and get the top restaurant\n",
    "top_restaurant = restaurant_review_counts.sort_values('Review_Count', ascending=False).head(1)\n",
    "\n",
    "print(\"Restaurant with highest number of reviews:\")\n",
    "print(f\"Restaurant Name: {top_restaurant['Business_Name'].values[0]}\")\n",
    "print(f\"Number of Reviews: {top_restaurant['Review_Count'].values[0]}\")\n",
    "print(f\"Percentage of Total Reviews: {top_restaurant['Review_Percentage'].values[0]}%\")"
   ],
   "id": "2327b4d34fc57451",
   "outputs": [
    {
     "name": "stdout",
     "output_type": "stream",
     "text": [
      "Restaurant with highest number of reviews:\n",
      "Restaurant Name: LAVO Italian Restaurant & Lounge\n",
      "Number of Reviews: 201\n",
      "Percentage of Total Reviews: 3.09%\n"
     ]
    }
   ],
   "execution_count": 12
  },
  {
   "metadata": {
    "ExecuteTime": {
     "end_time": "2025-01-23T10:07:04.070838Z",
     "start_time": "2025-01-23T10:07:04.063583Z"
    }
   },
   "cell_type": "code",
   "source": [
    "# Display top 5 restaurants by review count for context\n",
    "print(\"Top 5 restaurants by review count:\")\n",
    "restaurant_review_counts.sort_values('Review_Count', ascending=False).head()"
   ],
   "id": "954337d953aed480",
   "outputs": [
    {
     "name": "stdout",
     "output_type": "stream",
     "text": [
      "Top 5 restaurants by review count:\n"
     ]
    },
    {
     "data": {
      "text/plain": [
       "                Business_ID                     Business_Name  Review_Count  \\\n",
       "49   5GKbGn9-fAgQ0njSh3OJ8A  LAVO Italian Restaurant & Lounge           201   \n",
       "441  iXA8Y2bzvZo8MjALfZxrIg                    Margaritaville           137   \n",
       "75   8Pzdk19tA2bKlKDSgwWqoQ                         Scarpetta           134   \n",
       "0    -2n-OHbbwIv3SY8RP9bgTQ           Maggiano's Little Italy           126   \n",
       "515  rNahhyqDlouyDMHh57p3ug                    B&B Ristorante           110   \n",
       "\n",
       "     Review_Percentage  \n",
       "49                3.09  \n",
       "441               2.10  \n",
       "75                2.06  \n",
       "0                 1.93  \n",
       "515               1.69  "
      ],
      "text/html": [
       "<div>\n",
       "<style scoped>\n",
       "    .dataframe tbody tr th:only-of-type {\n",
       "        vertical-align: middle;\n",
       "    }\n",
       "\n",
       "    .dataframe tbody tr th {\n",
       "        vertical-align: top;\n",
       "    }\n",
       "\n",
       "    .dataframe thead th {\n",
       "        text-align: right;\n",
       "    }\n",
       "</style>\n",
       "<table border=\"1\" class=\"dataframe\">\n",
       "  <thead>\n",
       "    <tr style=\"text-align: right;\">\n",
       "      <th></th>\n",
       "      <th>Business_ID</th>\n",
       "      <th>Business_Name</th>\n",
       "      <th>Review_Count</th>\n",
       "      <th>Review_Percentage</th>\n",
       "    </tr>\n",
       "  </thead>\n",
       "  <tbody>\n",
       "    <tr>\n",
       "      <th>49</th>\n",
       "      <td>5GKbGn9-fAgQ0njSh3OJ8A</td>\n",
       "      <td>LAVO Italian Restaurant &amp; Lounge</td>\n",
       "      <td>201</td>\n",
       "      <td>3.09</td>\n",
       "    </tr>\n",
       "    <tr>\n",
       "      <th>441</th>\n",
       "      <td>iXA8Y2bzvZo8MjALfZxrIg</td>\n",
       "      <td>Margaritaville</td>\n",
       "      <td>137</td>\n",
       "      <td>2.10</td>\n",
       "    </tr>\n",
       "    <tr>\n",
       "      <th>75</th>\n",
       "      <td>8Pzdk19tA2bKlKDSgwWqoQ</td>\n",
       "      <td>Scarpetta</td>\n",
       "      <td>134</td>\n",
       "      <td>2.06</td>\n",
       "    </tr>\n",
       "    <tr>\n",
       "      <th>0</th>\n",
       "      <td>-2n-OHbbwIv3SY8RP9bgTQ</td>\n",
       "      <td>Maggiano's Little Italy</td>\n",
       "      <td>126</td>\n",
       "      <td>1.93</td>\n",
       "    </tr>\n",
       "    <tr>\n",
       "      <th>515</th>\n",
       "      <td>rNahhyqDlouyDMHh57p3ug</td>\n",
       "      <td>B&amp;B Ristorante</td>\n",
       "      <td>110</td>\n",
       "      <td>1.69</td>\n",
       "    </tr>\n",
       "  </tbody>\n",
       "</table>\n",
       "</div>"
      ]
     },
     "execution_count": 13,
     "metadata": {},
     "output_type": "execute_result"
    }
   ],
   "execution_count": 13
  },
  {
   "metadata": {
    "ExecuteTime": {
     "end_time": "2025-01-23T10:19:45.764900Z",
     "start_time": "2025-01-23T10:19:45.544768Z"
    }
   },
   "cell_type": "code",
   "source": [
    "# Create bar plot of top 10 restaurants\n",
    "plt.figure(figsize=(12, 6))\n",
    "top_10_restaurants = restaurant_review_counts.nlargest(10, 'Review_Count')\n",
    "sns.barplot(data=top_10_restaurants, x='Business_Name', y='Review_Count')\n",
    "plt.xticks(rotation=45, ha='right')\n",
    "plt.title('Top 10 Restaurants by Number of Reviews')\n",
    "plt.tight_layout()\n",
    "plt.show()"
   ],
   "id": "e7fc66721274c8a",
   "outputs": [
    {
     "data": {
      "text/plain": [
       "<Figure size 1200x600 with 1 Axes>"
      ],
      "image/png": "[encoded data removed]"
     },
     "metadata": {},
     "output_type": "display_data"
    }
   ],
   "execution_count": 15
  },
  {
   "metadata": {
    "ExecuteTime": {
     "end_time": "2025-01-23T10:18:55.869824Z",
     "start_time": "2025-01-23T10:18:55.850394Z"
    }
   },
   "cell_type": "code",
   "source": [
    "# Filter for Nevada businesses with 5-star reviews\n",
    "nevada_five_stars = df1[\n",
    "    (df1['State'] == 'NV') &\n",
    "    (df1['Avg_Business_Star_Rating'] == 5)\n",
    "]\n",
    "\n",
    "# Get unique cities with 5-star reviews\n",
    "nevada_cities_five_stars = nevada_five_stars['City'].unique()\n",
    "\n",
    "# Print the results\n",
    "print(\"\\nCities in Nevada with at least one 5-star review (all business types):\")\n",
    "for city in sorted(nevada_cities_five_stars):\n",
    "    print(f\"- {city}\")"
   ],
   "id": "81204ed47d0514cb",
   "outputs": [
    {
     "name": "stdout",
     "output_type": "stream",
     "text": [
      "\n",
      "Cities in Nevada with at least one 5-star review (all business types):\n",
      "- Boulder City\n",
      "- Henderson\n",
      "- Las Vegas\n",
      "- Nellis\n"
     ]
    }
   ],
   "execution_count": 14
  },
  {
   "metadata": {
    "ExecuteTime": {
     "end_time": "2025-01-23T10:20:17.476678Z",
     "start_time": "2025-01-23T10:20:17.471248Z"
    }
   },
   "cell_type": "code",
   "source": [
    "# Show count of 5-star reviews per city\n",
    "city_five_star_counts = nevada_five_stars.groupby('City').size().sort_values(ascending=False)\n",
    "print(\"\\nNumber of 5-star reviews per city in Nevada:\")\n",
    "print(city_five_star_counts)"
   ],
   "id": "b4b4f8c414dc8b76",
   "outputs": [
    {
     "name": "stdout",
     "output_type": "stream",
     "text": [
      "\n",
      "Number of 5-star reviews per city in Nevada:\n",
      "City\n",
      "Las Vegas       2694\n",
      "Henderson        382\n",
      "Boulder City      21\n",
      "Nellis             4\n",
      "dtype: int64\n"
     ]
    }
   ],
   "execution_count": 16
  },
  {
   "metadata": {
    "ExecuteTime": {
     "end_time": "2025-01-23T10:20:25.055637Z",
     "start_time": "2025-01-23T10:20:24.948367Z"
    }
   },
   "cell_type": "code",
   "source": [
    "# Visualize the distribution\n",
    "plt.figure(figsize=(10, 6))\n",
    "city_five_star_counts.plot(kind='bar')\n",
    "plt.title('Number of 5-Star Reviews by City in Nevada (All Businesses)')\n",
    "plt.xlabel('City')\n",
    "plt.ylabel('Number of 5-Star Reviews')\n",
    "plt.xticks(rotation=45, ha='right')\n",
    "plt.tight_layout()\n",
    "plt.show()"
   ],
   "id": "e979316831b3e624",
   "outputs": [
    {
     "data": {
      "text/plain": [
       "<Figure size 1000x600 with 1 Axes>"
      ],
      "image/png": "[encoded data removed]"
     },
     "metadata": {},
     "output_type": "display_data"
    }
   ],
   "execution_count": 17
  }
 ],
 "metadata": {
  "kernelspec": {
   "display_name": "Python 3",
   "language": "python",
   "name": "python3"
  },
  "language_info": {
   "codemirror_mode": {
    "name": "ipython",
    "version": 2
   },
   "file_extension": ".py",
   "mimetype": "text/x-python",
   "name": "python",
   "nbconvert_exporter": "python",
   "pygments_lexer": "ipython2",
   "version": "2.7.6"
  }
 },
 "nbformat": 4,
 "nbformat_minor": 5
}
